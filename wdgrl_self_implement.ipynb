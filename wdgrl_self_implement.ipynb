{
 "cells": [
  {
   "cell_type": "code",
   "execution_count": 7,
   "metadata": {},
   "outputs": [],
   "source": [
    "import torch\n",
    "import torch.nn as nn\n",
    "from typing import List\n",
    "\n",
    "class Generator(nn.Module):\n",
    "    def __init__(self, input_dim: int, hidden_dims: List[int]):\n",
    "        \"\"\"Feature extractor network.\"\"\"\n",
    "        super().__init__()\n",
    "        layers = []\n",
    "        prev_dim = input_dim\n",
    "        \n",
    "        for hidden_dim in hidden_dims:\n",
    "            layers.extend([\n",
    "                nn.Linear(prev_dim, hidden_dim),\n",
    "                nn.ReLU(),\n",
    "            ])\n",
    "            prev_dim = hidden_dim\n",
    "\n",
    "        self.net = nn.Sequential(*layers)\n",
    "    \n",
    "    def forward(self, x: torch.Tensor) -> torch.Tensor:\n",
    "        return self.net(x)\n",
    "\n",
    "class Classifier(nn.Module):\n",
    "    def __init__(self, input_dim: int, num_classes: int):\n",
    "        \"\"\"Classifier network.\"\"\"\n",
    "        super().__init__()\n",
    "        self.net = nn.Sequential(\n",
    "            nn.Linear(input_dim, num_classes),\n",
    "            nn.Sigmoid()\n",
    "        )\n",
    "    \n",
    "    def forward(self, x: torch.Tensor) -> torch.Tensor:\n",
    "        return self.net(x)\n",
    "\n",
    "class Critic(nn.Module):\n",
    "    def __init__(self, input_dim: int):\n",
    "        \"\"\"Domain critic network.\"\"\"\n",
    "        super().__init__()\n",
    "        self.net = nn.Sequential(\n",
    "            nn.Linear(input_dim, 10),\n",
    "            nn.ReLU(),\n",
    "            nn.Linear(10, 1)\n",
    "        )\n",
    "    \n",
    "    def forward(self, x: torch.Tensor) -> torch.Tensor:\n",
    "        return self.net(x)"
   ]
  },
  {
   "cell_type": "code",
   "execution_count": 8,
   "metadata": {},
   "outputs": [],
   "source": [
    "from typing import Optional, Dict\n",
    "import numpy as np\n",
    "from torch.utils.data import DataLoader, TensorDataset\n",
    "from tqdm.notebook import trange\n",
    "\n",
    "class WDGRL:\n",
    "    def __init__(\n",
    "            self,\n",
    "            input_dim: int = 2, \n",
    "            hidden_dims: List[int] = [20],\n",
    "            discriminator: bool = True,\n",
    "            num_classes: Optional[int] = 2,\n",
    "            _gamma: float = 0.1, # Gradient penalty weight \n",
    "            _lambda: float = 0.1, # Coefficient controls the balance between discriminative and transferable feature learning\n",
    "            _lr_domain_critic: float = 1e-3, # Learning rate for the domain critic parameter\n",
    "            _lr_feature_extractor: float = 1e-3, # Learning rate for the feature extractor (and classifier parameter if discriminator is True) \n",
    "            device: str = 'cuda' if torch.cuda.is_available() else 'cpu',\n",
    "            random_seed: Optional[int] = 0\n",
    "    ):\n",
    "        if random_seed is not None:\n",
    "            torch.manual_seed(random_seed)\n",
    "            np.random.seed(random_seed)\n",
    "\n",
    "        self.device = device\n",
    "        self._gamma = _gamma\n",
    "        self._lambda = _lambda\n",
    "\n",
    "        # Initialize networks\n",
    "        self.feature_extractor = Generator(input_dim, hidden_dims).to(device)\n",
    "        if discriminator:\n",
    "            self.discriminator = Classifier(hidden_dims[-1], num_classes).to(device)\n",
    "        self.domain_critic = Critic(hidden_dims[-1]).to(device)\n",
    "\n",
    "        # Initialize optimizers\n",
    "        if discriminator:\n",
    "            self.discriminator_optimizer = torch.optim.Adam(list(self.discriminator.parameters())+list(self.feature_extractor.parameters()), lr=_lr_feature_extractor)\n",
    "        self.domain_critic_optimizer = torch.optim.Adam(self.domain_critic.parameters(), lr=_lr_domain_critic)\n",
    "\n",
    "        # Initialize loss functions\n",
    "        if discriminator:\n",
    "            self.classification_criterion = nn.CrossEntropyLoss()\n",
    "\n",
    "    def compute_gradient_penalty(self, real_data: torch.Tensor, fake_data: torch.Tensor) -> torch.Tensor:\n",
    "        \"\"\"Compute gradient penalty.\"\"\"\n",
    "        alpha = torch.rand(real_data.size(0), 1).to(self.device)\n",
    "        print(alpha.shape, real_data.shape, fake_data.shape)\n",
    "        interpolates = (alpha * real_data + ((1 - alpha) * fake_data)).requires_grad_(True)\n",
    "        \n",
    "        # Domain critic outputs\n",
    "        dc_output = self.domain_critic(interpolates)\n",
    "        \n",
    "        # Compute gradients\n",
    "        gradients = torch.autograd.grad(\n",
    "            outputs=dc_output,\n",
    "            inputs=interpolates,\n",
    "            grad_outputs=torch.ones_like(dc_output).to(self.device),\n",
    "            create_graph=True,\n",
    "            retain_graph=True,\n",
    "            only_inputs=True,\n",
    "        )[0]\n",
    "\n",
    "        # Compute gradient penalty\n",
    "        gradients = gradients.view(gradients.size(0), -1)\n",
    "        return ((gradients.norm(2, dim=1) - 1) ** 2).mean()\n",
    "    \n",
    "    def train(self, source_loader: DataLoader, target_loader: DataLoader, num_epochs: int = 100, dc_iter: int = 100) -> List[float]:\n",
    "        \"\"\"Training WDGRL.\"\"\"\n",
    "        self.feature_extractor.train()\n",
    "        self.discriminator.train()\n",
    "        self.domain_critic.train()\n",
    "        critic_losses = []\n",
    "        dis_losses = []\n",
    "        total_losses = []\n",
    "        for epoch in trange(num_epochs, desc='Epoch'):\n",
    "            epoch_dc_loss = 0\n",
    "            epoch_dis_loss = 0\n",
    "            epoch_total_loss = 0\n",
    "            for (source_data, source_labels), (target_data, _) in zip(source_loader, target_loader):\n",
    "                if source_data.size(0) != target_data.size(0):\n",
    "                    break\n",
    "                source_data, source_labels = source_data.to(self.device), source_labels.to(self.device)\n",
    "                target_data = target_data.to(self.device)\n",
    "\n",
    "                # Train domain critic\n",
    "                for __ in range(dc_iter):\n",
    "                    self.domain_critic_optimizer.zero_grad()\n",
    "\n",
    "                    with torch.no_grad():\n",
    "                        source_features = self.feature_extractor(source_data)\n",
    "                        target_features = self.feature_extractor(target_data)\n",
    "                    \n",
    "                    # Compute empirical Wasserstein distance\n",
    "                    dc_source = self.domain_critic(source_features)\n",
    "                    dc_target = self.domain_critic(target_features)\n",
    "                    wasserstein_distance = dc_source.mean() - dc_target.mean()\n",
    "\n",
    "                    # Gradient penalty\n",
    "                    gradient_penalty = self.compute_gradient_penalty(source_features, target_features)\n",
    "\n",
    "                    # Domain critic loss\n",
    "                    dc_loss = - wasserstein_distance + self._gamma * gradient_penalty\n",
    "                    dc_loss.backward()\n",
    "                    self.domain_critic_optimizer.step()\n",
    "\n",
    "                    with torch.no_grad():\n",
    "                        epoch_critic_loss += dc_loss.item()\n",
    "            \n",
    "                # Train feature extractor and classifier\n",
    "                self.discriminator_optimizer.zero_grad()\n",
    "                source_features = self.feature_extractor(source_data)\n",
    "        \n",
    "                # Discriminator loss\n",
    "                dis_loss = self.classification_criterion(self.discriminator(source_features), source_labels)\n",
    "                \n",
    "                with torch.no_grad():\n",
    "                    batch_dis_loss += dis_loss.item()\n",
    "                    target_features = self.feature_extractor(target_data)\n",
    "                    dc_source = self.domain_critic(source_features)\n",
    "                    dc_target = self.domain_critic(target_features)\n",
    "                    wasserstein_distance = dc_source.mean() - dc_target.mean()\n",
    "            \n",
    "                total_loss = dis_loss + self._lambda * wasserstein_distance\n",
    "                total_loss.backward()  \n",
    "                self.discriminator_optimizer.step()\n",
    "                dis_losses.append(total_loss.item())\n",
    "        return critic_losses, dis_losses\n",
    "     \n",
    "    @torch.no_grad()\n",
    "    def evaluate(self, data: torch.Tensor) -> torch.Tensor:\n",
    "        \"\"\"Evaluate accuracy.\"\"\"\n",
    "        self.feature_extractor.eval()\n",
    "        self.discriminator.eval()\n",
    "        self.domain_critic.eval()\n",
    "        features = self.feature_extractor(data)\n",
    "        logits = self.discriminator(features)\n",
    "        return logits"
   ]
  },
  {
   "cell_type": "code",
   "execution_count": 9,
   "metadata": {},
   "outputs": [
    {
     "data": {
      "image/png": "[encoded data removed]",
      "text/plain": [
       "<Figure size 640x480 with 1 Axes>"
      ]
     },
     "metadata": {},
     "output_type": "display_data"
    }
   ],
   "source": [
    "from sklearn.datasets import make_blobs\n",
    "import matplotlib.pyplot as plt\n",
    "\n",
    "\"\"\"Create synthetic dataset and dataloaders for domain adaptation.\"\"\"\n",
    "# Create datasets\n",
    "ns, nt = 200, 10\n",
    "\n",
    "xs, ys = make_blobs(ns, centers=[[0, 0], [0, 10]], cluster_std=1)\n",
    "xt, yt = make_blobs(nt, centers=[[50, -20], [50, -10]], cluster_std=1)\n",
    "\n",
    "plt.scatter(xs[:, 0], xs[:, 1], c=ys, cmap='viridis', s=2)\n",
    "plt.scatter(xt[:, 0], xt[:, 1], c=yt, cmap='cool', s=2)\n",
    "plt.show()"
   ]
  },
  {
   "cell_type": "code",
   "execution_count": 10,
   "metadata": {},
   "outputs": [],
   "source": [
    "# Convert to PyTorch tensors\n",
    "xs = torch.FloatTensor(xs)\n",
    "ys = torch.LongTensor(ys)\n",
    "xt = torch.FloatTensor(xt)\n",
    "yt = torch.LongTensor(yt)"
   ]
  },
  {
   "cell_type": "code",
   "execution_count": 11,
   "metadata": {},
   "outputs": [
    {
     "data": {
      "application/vnd.jupyter.widget-view+json": {
       "model_id": "7ef801f4e3b043dd951f51e49fb107be",
       "version_major": 2,
       "version_minor": 0
      },
      "text/plain": [
       "Epoch:   0%|          | 0/20 [00:00<?, ?it/s]"
      ]
     },
     "metadata": {},
     "output_type": "display_data"
    },
    {
     "name": "stdout",
     "output_type": "stream",
     "text": [
      "torch.Size([200, 1]) torch.Size([200, 20]) torch.Size([10, 20])\n"
     ]
    },
    {
     "ename": "RuntimeError",
     "evalue": "The size of tensor a (200) must match the size of tensor b (10) at non-singleton dimension 0",
     "output_type": "error",
     "traceback": [
      "\u001b[1;31m---------------------------------------------------------------------------\u001b[0m",
      "\u001b[1;31mRuntimeError\u001b[0m                              Traceback (most recent call last)",
      "Cell \u001b[1;32mIn[11], line 2\u001b[0m\n\u001b[0;32m      1\u001b[0m model \u001b[38;5;241m=\u001b[39m WDGRL()\n\u001b[1;32m----> 2\u001b[0m critic_losses, dis_losses \u001b[38;5;241m=\u001b[39m \u001b[43mmodel\u001b[49m\u001b[38;5;241;43m.\u001b[39;49m\u001b[43mtrain\u001b[49m\u001b[43m(\u001b[49m\u001b[43mxs\u001b[49m\u001b[43m,\u001b[49m\u001b[43m \u001b[49m\u001b[43mys\u001b[49m\u001b[43m,\u001b[49m\u001b[43m \u001b[49m\u001b[43mxt\u001b[49m\u001b[43m,\u001b[49m\u001b[43m \u001b[49m\u001b[38;5;241;43m20\u001b[39;49m\u001b[43m,\u001b[49m\u001b[43m \u001b[49m\u001b[38;5;241;43m100\u001b[39;49m\u001b[43m)\u001b[49m\n",
      "Cell \u001b[1;32mIn[8], line 89\u001b[0m, in \u001b[0;36mWDGRL.train\u001b[1;34m(self, source_data, source_labels, target_data, num_epochs, dc_iter)\u001b[0m\n\u001b[0;32m     86\u001b[0m wasserstein_distance \u001b[38;5;241m=\u001b[39m dc_source\u001b[38;5;241m.\u001b[39mmean() \u001b[38;5;241m-\u001b[39m dc_target\u001b[38;5;241m.\u001b[39mmean()\n\u001b[0;32m     88\u001b[0m \u001b[38;5;66;03m# Gradient penalty\u001b[39;00m\n\u001b[1;32m---> 89\u001b[0m gradient_penalty \u001b[38;5;241m=\u001b[39m \u001b[38;5;28;43mself\u001b[39;49m\u001b[38;5;241;43m.\u001b[39;49m\u001b[43mcompute_gradient_penalty\u001b[49m\u001b[43m(\u001b[49m\u001b[43msource_features\u001b[49m\u001b[43m,\u001b[49m\u001b[43m \u001b[49m\u001b[43mtarget_features\u001b[49m\u001b[43m)\u001b[49m\n\u001b[0;32m     91\u001b[0m \u001b[38;5;66;03m# Domain critic loss\u001b[39;00m\n\u001b[0;32m     92\u001b[0m dc_loss \u001b[38;5;241m=\u001b[39m \u001b[38;5;241m-\u001b[39mwasserstein_distance \u001b[38;5;241m+\u001b[39m \u001b[38;5;28mself\u001b[39m\u001b[38;5;241m.\u001b[39m_gamma \u001b[38;5;241m*\u001b[39m gradient_penalty\n",
      "Cell \u001b[1;32mIn[8], line 47\u001b[0m, in \u001b[0;36mWDGRL.compute_gradient_penalty\u001b[1;34m(self, real_data, fake_data)\u001b[0m\n\u001b[0;32m     45\u001b[0m alpha \u001b[38;5;241m=\u001b[39m torch\u001b[38;5;241m.\u001b[39mrand(real_data\u001b[38;5;241m.\u001b[39msize(\u001b[38;5;241m0\u001b[39m), \u001b[38;5;241m1\u001b[39m)\u001b[38;5;241m.\u001b[39mto(\u001b[38;5;28mself\u001b[39m\u001b[38;5;241m.\u001b[39mdevice)\n\u001b[0;32m     46\u001b[0m \u001b[38;5;28mprint\u001b[39m(alpha\u001b[38;5;241m.\u001b[39mshape, real_data\u001b[38;5;241m.\u001b[39mshape, fake_data\u001b[38;5;241m.\u001b[39mshape)\n\u001b[1;32m---> 47\u001b[0m interpolates \u001b[38;5;241m=\u001b[39m (alpha \u001b[38;5;241m*\u001b[39m real_data \u001b[38;5;241m+\u001b[39m (\u001b[43m(\u001b[49m\u001b[38;5;241;43m1\u001b[39;49m\u001b[43m \u001b[49m\u001b[38;5;241;43m-\u001b[39;49m\u001b[43m \u001b[49m\u001b[43malpha\u001b[49m\u001b[43m)\u001b[49m\u001b[43m \u001b[49m\u001b[38;5;241;43m*\u001b[39;49m\u001b[43m \u001b[49m\u001b[43mfake_data\u001b[49m))\u001b[38;5;241m.\u001b[39mrequires_grad_(\u001b[38;5;28;01mTrue\u001b[39;00m)\n\u001b[0;32m     49\u001b[0m \u001b[38;5;66;03m# Domain critic outputs\u001b[39;00m\n\u001b[0;32m     50\u001b[0m dc_output \u001b[38;5;241m=\u001b[39m \u001b[38;5;28mself\u001b[39m\u001b[38;5;241m.\u001b[39mdomain_critic(interpolates)\n",
      "\u001b[1;31mRuntimeError\u001b[0m: The size of tensor a (200) must match the size of tensor b (10) at non-singleton dimension 0"
     ]
    }
   ],
   "source": [
    "model = WDGRL()\n",
    "critic_losses, dis_losses = model.train(xs, ys, xt, 20, 100)"
   ]
  },
  {
   "cell_type": "code",
   "execution_count": 63,
   "metadata": {},
   "outputs": [
    {
     "name": "stdout",
     "output_type": "stream",
     "text": [
      "20\n",
      "1\n"
     ]
    }
   ],
   "source": [
    "from torch.utils.data import DataLoader, TensorDataset \n",
    "source_dataset = TensorDataset(xs, ys)\n",
    "target_dataset = TensorDataset(xt, yt)\n",
    "batch_size = min(len(target_dataset), 64 // 2)\n",
    "source_loader = DataLoader(source_dataset, batch_size=batch_size, shuffle=True)\n",
    "target_loader = DataLoader(target_dataset, batch_size=batch_size, shuffle=True)\n",
    "print(len(source_loader))\n",
    "print(len(target_loader))"
   ]
  },
  {
   "cell_type": "code",
   "execution_count": 65,
   "metadata": {},
   "outputs": [
    {
     "name": "stdout",
     "output_type": "stream",
     "text": [
      "1\n"
     ]
    }
   ],
   "source": [
    "cnt = 0\n",
    "for (source_data, source_labels), (target_data, _) in zip(source_loader, target_loader):\n",
    "    if source_data.size(0) != target_data.size(0):\n",
    "        break\n",
    "    cnt+=1\n",
    "print(cnt)"
   ]
  }
 ],
 "metadata": {
  "kernelspec": {
   "display_name": "Python 3",
   "language": "python",
   "name": "python3"
  },
  "language_info": {
   "codemirror_mode": {
    "name": "ipython",
    "version": 3
   },
   "file_extension": ".py",
   "mimetype": "text/x-python",
   "name": "python",
   "nbconvert_exporter": "python",
   "pygments_lexer": "ipython3",
   "version": "3.12.3"
  }
 },
 "nbformat": 4,
 "nbformat_minor": 2
}
